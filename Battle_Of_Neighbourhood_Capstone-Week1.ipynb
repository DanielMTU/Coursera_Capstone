{
 "cells": [
  {
   "cell_type": "markdown",
   "metadata": {},
   "source": [
    "# Capstone Project - The Battle of the Neighborhoods (Week 1)\n",
    "### Applied Data Science Capstone by IBM/Coursera"
   ]
  },
  {
   "cell_type": "markdown",
   "metadata": {},
   "source": [
    "\n",
    "# <center>Toronto City vs New York City\n"
   ]
  },
  {
   "cell_type": "markdown",
   "metadata": {},
   "source": [
    "### Introduction: Business Problem <a id=\"introduction\"></a>"
   ]
  },
  {
   "cell_type": "markdown",
   "metadata": {},
   "source": [
    "**Background**:\n",
    "- New York City (NYC), often called simply New York, is the most populous city in the United States. With an estimated 2019 population of 8,336,817 distributed over about 302.6 square miles (784 km2), New York City is also the most densely populated major city in the United States. New York City has been described as the cultural, financial, and media capital of the world, significantly influencing commerce, entertainment, research, technology, education, politics, tourism, art, fashion, and sports.\n",
    "\n",
    "- Toronto is the capital city of the Canadian province of Ontario. With a recorded population of 2,731,571 in 2016 distributed over about 243.3 square miles ( 630.2 km2) it is the most populous city in Canada and the fourth most populous city in North America. Toronto is an international centre of business, finance, arts, and culture, and is recognized as one of the most multicultural and cosmopolitan cities in the world.  \n",
    "\n",
    "**Problem:**\n",
    "\n",
    "- Both cities are the main cities from each country and also the most populous cities in North America. So since they are important cities for each country, we want to find the differences between them comparing the neighborhoods and analyzing based on the venues of each cities. \n",
    "\n",
    "\n",
    "**Interest:**\n",
    "\n",
    "- The stakeholders will be international brands, who want to expand to North America, so that with the analysis, differences and characteristics that each city contributes presented in this project to choose the best option based on their requirements, brand category, etc. \n",
    "\n",
    "\n"
   ]
  },
  {
   "cell_type": "markdown",
   "metadata": {},
   "source": [
    "### Data <a id=\"data\"></a>"
   ]
  },
  {
   "cell_type": "markdown",
   "metadata": {},
   "source": [
    "- Based on the description of our problem, first of all, we will need the Neighborhood/Borough data from each City and for that  we gonna use a JSON file used in one of the course laboratories of New York City, which it contains Neighborhood/Borough with their respetive geospatial coordinates and in the case of Toronto City of Toronto, we gonna use web scrapping to get the Neighborhood/Borough with their postal codes additionally with a dataset that contains the geospatial coordinates of each postal code and finally join these two parts to obtain the desired dataframe.\n",
    " \n",
    "- Secondly, we gonna use the Foursquare API to explore the venues from each Neighborhood of each Borough from each City, which will give us the following information from each venue: name, category, geospatial coordinates(Latitude, Longitude), city and venue ID, which It gonna help us to have the first analysis. Then, we will get detaliled information from some selected venues which will give us relevent information: verified status, rating, likes, tips and photos count with which we will finish our analysis. Finally, this will help us evaluate both cities and see the similarities / differences.\n",
    "\n",
    "\n"
   ]
  }
 ],
 "metadata": {
  "kernelspec": {
   "display_name": "Python 3",
   "language": "python",
   "name": "python3"
  },
  "language_info": {
   "codemirror_mode": {
    "name": "ipython",
    "version": 3
   },
   "file_extension": ".py",
   "mimetype": "text/x-python",
   "name": "python",
   "nbconvert_exporter": "python",
   "pygments_lexer": "ipython3",
   "version": "3.7.6"
  }
 },
 "nbformat": 4,
 "nbformat_minor": 4
}
